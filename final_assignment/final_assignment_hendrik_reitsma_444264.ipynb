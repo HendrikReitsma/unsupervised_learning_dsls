{
 "cells": [
  {
   "cell_type": "markdown",
   "metadata": {},
   "source": [
    "# Unsupervised machine learning final assignment \n",
    "Name: Hendrik Reitsma\n",
    "\n",
    "Studentnumber: 444264\n",
    "\n",
    "Date: 13-06-2022"
   ]
  },
  {
   "cell_type": "markdown",
   "metadata": {},
   "source": [
    "## 1. Import modules"
   ]
  },
  {
   "cell_type": "code",
   "execution_count": 1,
   "metadata": {},
   "outputs": [],
   "source": [
    "import pandas as pd\n",
    "import seaborn as sns\n",
    "import matplotlib.pyplot as plt\n",
    "from sklearn.decomposition import PCA\n",
    "from sklearn.cluster import DBSCAN, KMeans"
   ]
  },
  {
   "cell_type": "markdown",
   "metadata": {},
   "source": [
    "## 2. Read data, join datasets, explore data\n",
    "Read clinical data:"
   ]
  },
  {
   "cell_type": "code",
   "execution_count": 2,
   "metadata": {},
   "outputs": [],
   "source": [
    "clinical = pd.read_excel('Lung3.metadata.xls')\n",
    "clinical = clinical.reset_index(drop=True)"
   ]
  },
  {
   "cell_type": "markdown",
   "metadata": {},
   "source": [
    "Read gene expression data:"
   ]
  },
  {
   "cell_type": "code",
   "execution_count": 3,
   "metadata": {},
   "outputs": [],
   "source": [
    "gene = pd.read_csv('GSE58661_series_matrix.txt.gz', sep='\\t', comment='!', compression='gzip')\n",
    "gene = gene.T\n",
    "gene.columns = gene.iloc[0]\n",
    "gene = gene[1:]\n",
    "gene = gene.reset_index()\n",
    "gene = gene.rename(columns={'index':'ID_REF'})\n",
    "gene = gene.rename_axis(None, axis=1)\n",
    "gene = gene.iloc[:,1:]\n",
    "gene = gene.apply(pd.to_numeric)"
   ]
  },
  {
   "cell_type": "markdown",
   "metadata": {},
   "source": [
    "Join data sets and check for nan values"
   ]
  },
  {
   "cell_type": "code",
   "execution_count": 4,
   "metadata": {},
   "outputs": [
    {
     "data": {
      "text/plain": [
       "1"
      ]
     },
     "execution_count": 4,
     "metadata": {},
     "output_type": "execute_result"
    }
   ],
   "source": [
    "df = clinical.join(gene)\n",
    "df.isnull().sum().sum()"
   ]
  },
  {
   "cell_type": "code",
   "execution_count": 5,
   "metadata": {},
   "outputs": [
    {
     "data": {
      "text/plain": [
       "characteristics.tag.tumor.size.maximumdiameter    1\n",
       "dtype: int64"
      ]
     },
     "execution_count": 5,
     "metadata": {},
     "output_type": "execute_result"
    }
   ],
   "source": [
    "df.isnull().sum()[df.isnull().sum() >= 1]"
   ]
  },
  {
   "cell_type": "markdown",
   "metadata": {},
   "source": [
    "Only tumor size column has a nan value."
   ]
  },
  {
   "cell_type": "markdown",
   "metadata": {},
   "source": [
    "Check for skewness."
   ]
  },
  {
   "cell_type": "code",
   "execution_count": 6,
   "metadata": {},
   "outputs": [
    {
     "name": "stderr",
     "output_type": "stream",
     "text": [
      "C:\\Users\\Public\\Documents\\Wondershare\\CreatorTemp\\ipykernel_22064\\3788545905.py:2: FutureWarning: Dropping of nuisance columns in DataFrame reductions (with 'numeric_only=None') is deprecated; in a future version this will raise TypeError.  Select only valid columns before calling the reduction.\n",
      "  skewed_columns = df.skew().sort_values(ascending=False)\n"
     ]
    },
    {
     "data": {
      "text/plain": [
       "merck-NC_001526_ORF_1178_at    9.014309\n",
       "merck-NC_001526_ORF_1180_at    8.944469\n",
       "merck-NC_001526_ORF_1182_at    8.699111\n",
       "merck-BX648957_at              8.601416\n",
       "merck-NC_001526_ORF_1179_at    8.505894\n",
       "                                 ...   \n",
       "AFFX-BkGr-GC05_at              0.500062\n",
       "merck2-BC015750_x_at           0.500043\n",
       "merck-NM_030760_at             0.500015\n",
       "merck-NM_017805_at             0.500013\n",
       "merck2-NM_021731_at            0.500011\n",
       "Length: 23121, dtype: float64"
      ]
     },
     "execution_count": 6,
     "metadata": {},
     "output_type": "execute_result"
    }
   ],
   "source": [
    "## Skewness\n",
    "skewed_columns = df.skew().sort_values(ascending=False)\n",
    "skewed_columns = skewed_columns.loc[skewed_columns > 0.5]\n",
    "skewed_columns"
   ]
  },
  {
   "cell_type": "markdown",
   "metadata": {},
   "source": [
    "The data is skewed to the right because in some patients the genes are expressed a lot more than the 'normal' patients. This is something we want to predict with our unsupervised learning algorithm."
   ]
  },
  {
   "cell_type": "markdown",
   "metadata": {},
   "source": [
    "## 3. Preprocess data \n",
    "\n",
    "The histology column has a lot of different values. For more accurate clustering we can simplify this down to a few groups."
   ]
  },
  {
   "cell_type": "code",
   "execution_count": 7,
   "metadata": {},
   "outputs": [
    {
     "data": {
      "text/plain": [
       "Squamous Cell Carcinoma, NOS                                            33\n",
       "Adenocarcinoma, NOS                                                     25\n",
       "Non-Small Cell                                                           7\n",
       "Adenocarcinoma, Papillary, NOS                                           4\n",
       "Adenocarcinoma, Bronchiolo-alveolar Features                             4\n",
       "Adenocarcinoma, Acinar Type                                              3\n",
       "Solid Type And Acinar                                                    2\n",
       "Adenocarcinoma With Papillary Features                                   2\n",
       "Adenocarcinoma, Mixed                                                    1\n",
       "Adenocarcinoma, Mucinous With Bronchiolo-alveolar Features               1\n",
       "Squamous Cell Carcinoma, Other (Specify) with adeno features             1\n",
       "Adenocarcinoma With Mucinous Features                                    1\n",
       "Papillary Type AND      Adenocarcinoma, Bronchiolo-alveolar Features     1\n",
       "Carcinoma, Large Cell, Neuroendocrine                                    1\n",
       "Squamous Cell Carcinoma, Other (Specify)endobronchial                    1\n",
       "Squamous Cell Carcinoma, Papillary                                       1\n",
       "Non-Small Cell, Pleomorphic Type                                         1\n",
       "Name: characteristics.tag.histology, dtype: int64"
      ]
     },
     "execution_count": 7,
     "metadata": {},
     "output_type": "execute_result"
    }
   ],
   "source": [
    "df['characteristics.tag.histology'].value_counts()"
   ]
  },
  {
   "cell_type": "code",
   "execution_count": 8,
   "metadata": {},
   "outputs": [
    {
     "data": {
      "text/plain": [
       "Adenocarcinoma             42\n",
       "Squamous Cell Carcinoma    36\n",
       "Other                      11\n",
       "Name: hist_group, dtype: int64"
      ]
     },
     "execution_count": 8,
     "metadata": {},
     "output_type": "execute_result"
    }
   ],
   "source": [
    "## Cluster histology into Squamous Cell Carcinoma and Adenocarcinoma\n",
    "def define_clusters(df):\n",
    "    \"\"\"\n",
    "    :param: dataframe\n",
    "    Function that creates clusters based on histology\n",
    "    :return: dataframe with grouped histology\n",
    "    \"\"\"\n",
    "    df.loc[df['characteristics.tag.histology'].str.contains('Adenocarcinoma'), 'hist_group'] = 'Adenocarcinoma'\n",
    "    df.loc[df['characteristics.tag.histology'].str.contains('Squamous Cell Carcinoma'), 'hist_group'] = 'Squamous Cell Carcinoma'\n",
    "    df['hist_group'] = df['hist_group'].fillna(value='Other')\n",
    "    return df\n",
    "\n",
    "## Add group column to dataframe\n",
    "df = define_clusters(df)\n",
    "df['hist_group'].value_counts()"
   ]
  },
  {
   "cell_type": "code",
   "execution_count": 9,
   "metadata": {},
   "outputs": [],
   "source": [
    "## For better clustering we don't use the entries that are not classifiable as Adenocarcinoma or Squamous Cell Carcinoma\n",
    "df = df[df['hist_group'] != 'Other']\n",
    "df.reset_index(drop=True, inplace=True)"
   ]
  },
  {
   "cell_type": "markdown",
   "metadata": {},
   "source": [
    "The data is fairly balanced."
   ]
  },
  {
   "cell_type": "markdown",
   "metadata": {},
   "source": [
    "Standardizing the values actually increases noise in the dataset so there will be no scaling performed."
   ]
  },
  {
   "cell_type": "code",
   "execution_count": 10,
   "metadata": {},
   "outputs": [],
   "source": [
    "X = df.iloc[:,17:-1]\n",
    "## No scaling\n",
    "X = X.values\n",
    "## Scaling\n",
    "# scaler = StandardScaler()\n",
    "# scaler.fit(X)\n",
    "# X = scaler.transform(X)\n",
    "## Define y\n",
    "y = df['hist_group']"
   ]
  },
  {
   "cell_type": "markdown",
   "metadata": {},
   "source": [
    "## 4. Perform Dimensionality reduction\n",
    "The dataset is highly dimensional (>60000 columns). Some sort of dimensionality reduction will be necessary."
   ]
  },
  {
   "cell_type": "code",
   "execution_count": 11,
   "metadata": {},
   "outputs": [
    {
     "name": "stdout",
     "output_type": "stream",
     "text": [
      "[0.1694419  0.24306965 0.29647818 0.34393041 0.38051974 0.41285276\n",
      " 0.43934787 0.46288232 0.48577414 0.50431265 0.52153529 0.537073\n",
      " 0.55225623 0.56702496 0.58045343 0.59376595 0.60675217 0.61944818\n",
      " 0.6313842  0.64304705 0.65449939 0.66549674 0.67633425 0.68639851\n",
      " 0.69639274 0.70615448 0.71560417 0.72484721 0.73373532 0.74245381\n",
      " 0.75095907 0.75910076 0.76720112 0.77508247 0.78287903 0.79040294\n",
      " 0.79783321 0.80519224 0.8123316  0.81931176 0.82625651 0.8329837\n",
      " 0.83947938 0.84586479 0.85215333 0.85833988 0.86446379 0.87037578\n",
      " 0.87615777 0.88188821 0.88752498 0.89310295 0.89854753 0.90392409\n",
      " 0.90923219 0.91450758 0.91959657 0.92459757 0.92953857 0.934365\n",
      " 0.93913685 0.94374982 0.94826943 0.9527624 ]\n",
      "64\n"
     ]
    }
   ],
   "source": [
    "## PCA:\n",
    "pca = PCA(n_components=.95, svd_solver='auto')\n",
    "X_PCA = pca.fit_transform(X)\n",
    "print(pca.explained_variance_ratio_.cumsum())\n",
    "print(len(pca.explained_variance_ratio_.cumsum()))\n",
    "X_PCA = pd.DataFrame(data=X_PCA)"
   ]
  },
  {
   "cell_type": "markdown",
   "metadata": {},
   "source": [
    "95% of variance is explained by 64 principle components"
   ]
  },
  {
   "cell_type": "code",
   "execution_count": 12,
   "metadata": {},
   "outputs": [
    {
     "data": {
      "image/png": "[encoded data removed]",
      "text/plain": [
       "<Figure size 432x288 with 1 Axes>"
      ]
     },
     "metadata": {
      "needs_background": "light"
     },
     "output_type": "display_data"
    }
   ],
   "source": [
    "def plot_cluster(X, df, hue):\n",
    "    #add x, y features to the original df\n",
    "    df['x'] = X.iloc[:,0]\n",
    "    df['y'] = X.iloc[:,1]\n",
    "    sns.scatterplot(x = 'x', y = 'y', hue = hue, data = df, alpha = 0.5, )\n",
    "    plt.legend(bbox_to_anchor=(1.05, 1), loc='upper left', borderaxespad=0)\n",
    "    plt.title('first two PC (24% variance explained)')\n",
    "    plt.show()\n",
    "\n",
    "plot_cluster(X_PCA, df, hue = 'hist_group')"
   ]
  },
  {
   "cell_type": "markdown",
   "metadata": {},
   "source": [
    "## 5. Perform clustering with kmeans\n",
    "To distinguish between the different cancers, a clustering technique can be used. First kmeans is explored."
   ]
  },
  {
   "cell_type": "markdown",
   "metadata": {},
   "source": [
    "Define analyze cluster function."
   ]
  },
  {
   "cell_type": "code",
   "execution_count": 13,
   "metadata": {},
   "outputs": [],
   "source": [
    "# Define analyze cluster function\n",
    "def analyzeCluster(clusterDF, labelsDF):\n",
    "    \"\"\"\n",
    "    :param: clusterDF, this is the data\n",
    "            labelsDF, these are the labels\n",
    "    Function that analyzes clusters and calculates accuracy\n",
    "    :return: \n",
    "            countByCluster, countByLabel, countMostFreq,\n",
    "            accuracyDF, overallAccuracy, accuracyByLabel\n",
    "    \"\"\"\n",
    "    ## Count number of values in cluster\n",
    "    countByCluster = \\\n",
    "        pd.DataFrame(data=clusterDF['cluster'].value_counts())\n",
    "    countByCluster.reset_index(inplace=True,drop=False)\n",
    "    countByCluster.columns = ['cluster','clusterCount']\n",
    "\n",
    "    ## Reset index if the index don't align\n",
    "    ## preds shows the true label and what cluster it is assigned to\n",
    "    clusterDF.reset_index(inplace = True, drop = True)\n",
    "    labelsDF.reset_index(inplace = True, drop = True)\n",
    "    preds = pd.concat([labelsDF,clusterDF], axis=1)\n",
    "    preds.columns = ['trueLabel','cluster']\n",
    "    \n",
    "    ## Count true labels\n",
    "    countByLabel = pd.DataFrame(data=preds.groupby('trueLabel').count())\n",
    "    \n",
    "    ## Count the most frequent label\n",
    "    countMostFreq = \\\n",
    "        pd.DataFrame(data=preds.groupby('cluster').agg( \\\n",
    "                        lambda x:x.value_counts().iloc[0]))\n",
    "    countMostFreq.reset_index(inplace=True,drop=False)\n",
    "    countMostFreq.columns = ['cluster','countMostFrequent']\n",
    "    ## Merge most frequent occuring label and total cluster size to create accuracyDF\n",
    "    accuracyDF = countMostFreq.merge(countByCluster, \\\n",
    "                        left_on=\"cluster\",right_on=\"cluster\")\n",
    "\n",
    "    ## Accuracy is calculated by how many most frequent labels are in the cluster \n",
    "    ## divided by total cluster size\n",
    "    overallAccuracy = accuracyDF.countMostFrequent.sum()/ \\\n",
    "                        accuracyDF.clusterCount.sum()\n",
    "    ## Accuracy per cluster\n",
    "    accuracyByLabel = accuracyDF.countMostFrequent/ \\\n",
    "                        accuracyDF.clusterCount\n",
    "    return countByCluster, countByLabel, countMostFreq, \\\n",
    "            accuracyDF, overallAccuracy, accuracyByLabel"
   ]
  },
  {
   "cell_type": "markdown",
   "metadata": {},
   "source": [
    "Check how accuracy of clusters improves as number of clusters varies."
   ]
  },
  {
   "cell_type": "code",
   "execution_count": 14,
   "metadata": {},
   "outputs": [
    {
     "data": {
      "image/png": "[encoded data removed]",
      "text/plain": [
       "<Figure size 432x288 with 1 Axes>"
      ]
     },
     "metadata": {
      "needs_background": "light"
     },
     "output_type": "display_data"
    }
   ],
   "source": [
    "# K-means - Accuracy as the number of clusters varies\n",
    "n_init = 10\n",
    "max_iter = 300\n",
    "tol = 0.0001\n",
    "random_state = 42\n",
    "\n",
    "kMeans_inertia = \\\n",
    "    pd.DataFrame(data=[],index=range(2,16),columns=['inertia'])\n",
    "overallAccuracy_kMeansDF = \\\n",
    "    pd.DataFrame(data=[],index=range(2,16),columns=['overallAccuracy'])\n",
    "\n",
    "for n_clusters in range(2,12):\n",
    "    kmeans = KMeans(n_clusters=n_clusters, n_init=n_init, \\\n",
    "                max_iter=max_iter, tol=tol, random_state=random_state)\n",
    "\n",
    "    cutoff = 73\n",
    "    kmeans.fit(X_PCA.loc[:,0:cutoff])\n",
    "    kMeans_inertia.loc[n_clusters] = kmeans.inertia_\n",
    "    X_train_kmeansClustered = kmeans.predict(X_PCA.loc[:,0:cutoff])\n",
    "    X_train_kmeansClustered = \\\n",
    "        pd.DataFrame(data=X_train_kmeansClustered, index=X_PCA.index, \\\n",
    "                     columns=['cluster'])\n",
    "    countByCluster_kMeans, countByLabel_kMeans, countMostFreq_kMeans, \\\n",
    "        accuracyDF_kMeans, overallAccuracy_kMeans, accuracyByLabel_kMeans \\\n",
    "        = analyzeCluster(X_train_kmeansClustered, y)\n",
    "    \n",
    "    overallAccuracy_kMeansDF.loc[n_clusters] = overallAccuracy_kMeans\n",
    "\n",
    "# Plot accuracy\n",
    "overallAccuracy_kMeansDF.plot();"
   ]
  },
  {
   "cell_type": "markdown",
   "metadata": {},
   "source": [
    "The accuracy of the clusters does not improve after 2 clusters."
   ]
  },
  {
   "cell_type": "code",
   "execution_count": 15,
   "metadata": {},
   "outputs": [
    {
     "data": {
      "text/plain": [
       "0.9102564102564102"
      ]
     },
     "execution_count": 15,
     "metadata": {},
     "output_type": "execute_result"
    }
   ],
   "source": [
    "# K-means - 2 clusters\n",
    "n_clusters = 2\n",
    "n_init = 10\n",
    "max_iter = 300\n",
    "tol = 0.0001\n",
    "random_state = 42\n",
    "\n",
    "kmeans = KMeans(n_clusters=n_clusters, n_init=n_init, \\\n",
    "            max_iter=max_iter, tol=tol, random_state=random_state)\n",
    "\n",
    "cutoff = 73\n",
    "kmeans.fit(X_PCA.loc[:,0:cutoff])\n",
    "kMeans_inertia.loc[n_clusters] = kmeans.inertia_\n",
    "X_train_kmeansClustered = kmeans.predict(X_PCA.loc[:,0:cutoff])\n",
    "X_train_kmeansClustered = \\\n",
    "    pd.DataFrame(data=X_train_kmeansClustered, index=X_PCA.index, \\\n",
    "                    columns=['cluster'])\n",
    "\n",
    "countByCluster_kMeans, countByLabel_kMeans, countMostFreq_kMeans, \\\n",
    "    accuracyDF_kMeans, overallAccuracy_kMeans, accuracyByLabel_kMeans \\\n",
    "    = analyzeCluster(X_train_kmeansClustered, y)\n",
    "\n",
    "overallAccuracy_kMeans"
   ]
  },
  {
   "cell_type": "markdown",
   "metadata": {},
   "source": [
    "Look inside the kmeans clusters:"
   ]
  },
  {
   "cell_type": "code",
   "execution_count": 16,
   "metadata": {},
   "outputs": [
    {
     "data": {
      "text/html": [
       "<div>\n",
       "<style scoped>\n",
       "    .dataframe tbody tr th:only-of-type {\n",
       "        vertical-align: middle;\n",
       "    }\n",
       "\n",
       "    .dataframe tbody tr th {\n",
       "        vertical-align: top;\n",
       "    }\n",
       "\n",
       "    .dataframe thead th {\n",
       "        text-align: right;\n",
       "    }\n",
       "</style>\n",
       "<table border=\"1\" class=\"dataframe\">\n",
       "  <thead>\n",
       "    <tr style=\"text-align: right;\">\n",
       "      <th></th>\n",
       "      <th>0</th>\n",
       "      <th>hist_group</th>\n",
       "    </tr>\n",
       "  </thead>\n",
       "  <tbody>\n",
       "    <tr>\n",
       "      <th>1</th>\n",
       "      <td>1</td>\n",
       "      <td>Adenocarcinoma</td>\n",
       "    </tr>\n",
       "    <tr>\n",
       "      <th>2</th>\n",
       "      <td>1</td>\n",
       "      <td>Adenocarcinoma</td>\n",
       "    </tr>\n",
       "    <tr>\n",
       "      <th>4</th>\n",
       "      <td>1</td>\n",
       "      <td>Adenocarcinoma</td>\n",
       "    </tr>\n",
       "    <tr>\n",
       "      <th>6</th>\n",
       "      <td>1</td>\n",
       "      <td>Adenocarcinoma</td>\n",
       "    </tr>\n",
       "    <tr>\n",
       "      <th>9</th>\n",
       "      <td>1</td>\n",
       "      <td>Adenocarcinoma</td>\n",
       "    </tr>\n",
       "    <tr>\n",
       "      <th>11</th>\n",
       "      <td>1</td>\n",
       "      <td>Adenocarcinoma</td>\n",
       "    </tr>\n",
       "    <tr>\n",
       "      <th>12</th>\n",
       "      <td>1</td>\n",
       "      <td>Squamous Cell Carcinoma</td>\n",
       "    </tr>\n",
       "    <tr>\n",
       "      <th>13</th>\n",
       "      <td>1</td>\n",
       "      <td>Adenocarcinoma</td>\n",
       "    </tr>\n",
       "    <tr>\n",
       "      <th>14</th>\n",
       "      <td>1</td>\n",
       "      <td>Adenocarcinoma</td>\n",
       "    </tr>\n",
       "    <tr>\n",
       "      <th>17</th>\n",
       "      <td>1</td>\n",
       "      <td>Adenocarcinoma</td>\n",
       "    </tr>\n",
       "    <tr>\n",
       "      <th>18</th>\n",
       "      <td>1</td>\n",
       "      <td>Adenocarcinoma</td>\n",
       "    </tr>\n",
       "    <tr>\n",
       "      <th>19</th>\n",
       "      <td>1</td>\n",
       "      <td>Adenocarcinoma</td>\n",
       "    </tr>\n",
       "    <tr>\n",
       "      <th>20</th>\n",
       "      <td>1</td>\n",
       "      <td>Adenocarcinoma</td>\n",
       "    </tr>\n",
       "    <tr>\n",
       "      <th>22</th>\n",
       "      <td>1</td>\n",
       "      <td>Squamous Cell Carcinoma</td>\n",
       "    </tr>\n",
       "    <tr>\n",
       "      <th>23</th>\n",
       "      <td>1</td>\n",
       "      <td>Adenocarcinoma</td>\n",
       "    </tr>\n",
       "    <tr>\n",
       "      <th>24</th>\n",
       "      <td>1</td>\n",
       "      <td>Squamous Cell Carcinoma</td>\n",
       "    </tr>\n",
       "    <tr>\n",
       "      <th>25</th>\n",
       "      <td>1</td>\n",
       "      <td>Adenocarcinoma</td>\n",
       "    </tr>\n",
       "    <tr>\n",
       "      <th>26</th>\n",
       "      <td>1</td>\n",
       "      <td>Squamous Cell Carcinoma</td>\n",
       "    </tr>\n",
       "    <tr>\n",
       "      <th>27</th>\n",
       "      <td>1</td>\n",
       "      <td>Adenocarcinoma</td>\n",
       "    </tr>\n",
       "    <tr>\n",
       "      <th>29</th>\n",
       "      <td>1</td>\n",
       "      <td>Adenocarcinoma</td>\n",
       "    </tr>\n",
       "    <tr>\n",
       "      <th>30</th>\n",
       "      <td>1</td>\n",
       "      <td>Adenocarcinoma</td>\n",
       "    </tr>\n",
       "    <tr>\n",
       "      <th>33</th>\n",
       "      <td>1</td>\n",
       "      <td>Adenocarcinoma</td>\n",
       "    </tr>\n",
       "    <tr>\n",
       "      <th>34</th>\n",
       "      <td>1</td>\n",
       "      <td>Adenocarcinoma</td>\n",
       "    </tr>\n",
       "    <tr>\n",
       "      <th>35</th>\n",
       "      <td>1</td>\n",
       "      <td>Adenocarcinoma</td>\n",
       "    </tr>\n",
       "    <tr>\n",
       "      <th>36</th>\n",
       "      <td>1</td>\n",
       "      <td>Adenocarcinoma</td>\n",
       "    </tr>\n",
       "    <tr>\n",
       "      <th>37</th>\n",
       "      <td>1</td>\n",
       "      <td>Adenocarcinoma</td>\n",
       "    </tr>\n",
       "    <tr>\n",
       "      <th>38</th>\n",
       "      <td>1</td>\n",
       "      <td>Adenocarcinoma</td>\n",
       "    </tr>\n",
       "    <tr>\n",
       "      <th>39</th>\n",
       "      <td>1</td>\n",
       "      <td>Adenocarcinoma</td>\n",
       "    </tr>\n",
       "    <tr>\n",
       "      <th>41</th>\n",
       "      <td>1</td>\n",
       "      <td>Adenocarcinoma</td>\n",
       "    </tr>\n",
       "    <tr>\n",
       "      <th>44</th>\n",
       "      <td>1</td>\n",
       "      <td>Adenocarcinoma</td>\n",
       "    </tr>\n",
       "    <tr>\n",
       "      <th>45</th>\n",
       "      <td>1</td>\n",
       "      <td>Adenocarcinoma</td>\n",
       "    </tr>\n",
       "    <tr>\n",
       "      <th>46</th>\n",
       "      <td>1</td>\n",
       "      <td>Squamous Cell Carcinoma</td>\n",
       "    </tr>\n",
       "    <tr>\n",
       "      <th>49</th>\n",
       "      <td>1</td>\n",
       "      <td>Adenocarcinoma</td>\n",
       "    </tr>\n",
       "    <tr>\n",
       "      <th>52</th>\n",
       "      <td>1</td>\n",
       "      <td>Adenocarcinoma</td>\n",
       "    </tr>\n",
       "    <tr>\n",
       "      <th>56</th>\n",
       "      <td>1</td>\n",
       "      <td>Adenocarcinoma</td>\n",
       "    </tr>\n",
       "    <tr>\n",
       "      <th>58</th>\n",
       "      <td>1</td>\n",
       "      <td>Adenocarcinoma</td>\n",
       "    </tr>\n",
       "    <tr>\n",
       "      <th>59</th>\n",
       "      <td>1</td>\n",
       "      <td>Adenocarcinoma</td>\n",
       "    </tr>\n",
       "    <tr>\n",
       "      <th>60</th>\n",
       "      <td>1</td>\n",
       "      <td>Adenocarcinoma</td>\n",
       "    </tr>\n",
       "    <tr>\n",
       "      <th>61</th>\n",
       "      <td>1</td>\n",
       "      <td>Adenocarcinoma</td>\n",
       "    </tr>\n",
       "    <tr>\n",
       "      <th>63</th>\n",
       "      <td>1</td>\n",
       "      <td>Adenocarcinoma</td>\n",
       "    </tr>\n",
       "    <tr>\n",
       "      <th>64</th>\n",
       "      <td>1</td>\n",
       "      <td>Adenocarcinoma</td>\n",
       "    </tr>\n",
       "    <tr>\n",
       "      <th>68</th>\n",
       "      <td>1</td>\n",
       "      <td>Squamous Cell Carcinoma</td>\n",
       "    </tr>\n",
       "    <tr>\n",
       "      <th>69</th>\n",
       "      <td>1</td>\n",
       "      <td>Adenocarcinoma</td>\n",
       "    </tr>\n",
       "    <tr>\n",
       "      <th>70</th>\n",
       "      <td>1</td>\n",
       "      <td>Adenocarcinoma</td>\n",
       "    </tr>\n",
       "    <tr>\n",
       "      <th>71</th>\n",
       "      <td>1</td>\n",
       "      <td>Adenocarcinoma</td>\n",
       "    </tr>\n",
       "    <tr>\n",
       "      <th>72</th>\n",
       "      <td>1</td>\n",
       "      <td>Adenocarcinoma</td>\n",
       "    </tr>\n",
       "    <tr>\n",
       "      <th>73</th>\n",
       "      <td>1</td>\n",
       "      <td>Adenocarcinoma</td>\n",
       "    </tr>\n",
       "    <tr>\n",
       "      <th>74</th>\n",
       "      <td>1</td>\n",
       "      <td>Adenocarcinoma</td>\n",
       "    </tr>\n",
       "    <tr>\n",
       "      <th>77</th>\n",
       "      <td>1</td>\n",
       "      <td>Squamous Cell Carcinoma</td>\n",
       "    </tr>\n",
       "  </tbody>\n",
       "</table>\n",
       "</div>"
      ],
      "text/plain": [
       "    0               hist_group\n",
       "1   1           Adenocarcinoma\n",
       "2   1           Adenocarcinoma\n",
       "4   1           Adenocarcinoma\n",
       "6   1           Adenocarcinoma\n",
       "9   1           Adenocarcinoma\n",
       "11  1           Adenocarcinoma\n",
       "12  1  Squamous Cell Carcinoma\n",
       "13  1           Adenocarcinoma\n",
       "14  1           Adenocarcinoma\n",
       "17  1           Adenocarcinoma\n",
       "18  1           Adenocarcinoma\n",
       "19  1           Adenocarcinoma\n",
       "20  1           Adenocarcinoma\n",
       "22  1  Squamous Cell Carcinoma\n",
       "23  1           Adenocarcinoma\n",
       "24  1  Squamous Cell Carcinoma\n",
       "25  1           Adenocarcinoma\n",
       "26  1  Squamous Cell Carcinoma\n",
       "27  1           Adenocarcinoma\n",
       "29  1           Adenocarcinoma\n",
       "30  1           Adenocarcinoma\n",
       "33  1           Adenocarcinoma\n",
       "34  1           Adenocarcinoma\n",
       "35  1           Adenocarcinoma\n",
       "36  1           Adenocarcinoma\n",
       "37  1           Adenocarcinoma\n",
       "38  1           Adenocarcinoma\n",
       "39  1           Adenocarcinoma\n",
       "41  1           Adenocarcinoma\n",
       "44  1           Adenocarcinoma\n",
       "45  1           Adenocarcinoma\n",
       "46  1  Squamous Cell Carcinoma\n",
       "49  1           Adenocarcinoma\n",
       "52  1           Adenocarcinoma\n",
       "56  1           Adenocarcinoma\n",
       "58  1           Adenocarcinoma\n",
       "59  1           Adenocarcinoma\n",
       "60  1           Adenocarcinoma\n",
       "61  1           Adenocarcinoma\n",
       "63  1           Adenocarcinoma\n",
       "64  1           Adenocarcinoma\n",
       "68  1  Squamous Cell Carcinoma\n",
       "69  1           Adenocarcinoma\n",
       "70  1           Adenocarcinoma\n",
       "71  1           Adenocarcinoma\n",
       "72  1           Adenocarcinoma\n",
       "73  1           Adenocarcinoma\n",
       "74  1           Adenocarcinoma\n",
       "77  1  Squamous Cell Carcinoma"
      ]
     },
     "execution_count": 16,
     "metadata": {},
     "output_type": "execute_result"
    }
   ],
   "source": [
    "check_df = pd.DataFrame(kmeans.labels_)\n",
    "check_df2 = pd.DataFrame(df['hist_group'])\n",
    "check_df = check_df.join(check_df2)\n",
    "check_df[check_df[0] == 0]\n",
    "check_df[check_df[0] == 1]"
   ]
  },
  {
   "cell_type": "markdown",
   "metadata": {},
   "source": [
    "KMeans is separating the dataset into Squamous cell Carcinoma and Adenocarcinoma pretty well."
   ]
  },
  {
   "cell_type": "markdown",
   "metadata": {},
   "source": [
    "## 6. Agglomerative Hierarchical Clustering\n",
    "\n",
    "Using the observations in the dataset, hierarchical clustering can build a dendrogram. The 'leaves' at the bottom are the individual instances of the dataset. The leaves are joined together based on how similar they are to each other. The most similar instances are joined earlier, and the less similar ones later."
   ]
  },
  {
   "cell_type": "code",
   "execution_count": 17,
   "metadata": {},
   "outputs": [
    {
     "data": {
      "image/png": "[encoded data removed]",
      "text/plain": [
       "<Figure size 1440x360 with 1 Axes>"
      ]
     },
     "metadata": {
      "needs_background": "light"
     },
     "output_type": "display_data"
    }
   ],
   "source": [
    "import scipy.cluster.hierarchy as shc\n",
    "\n",
    "plt.figure(figsize=(20, 5))\n",
    "plt.title(\"Dendogram\")\n",
    "Z = shc.linkage(X, method='ward')\n",
    "dend = shc.dendrogram(Z,\\\n",
    "                    labels = list(df['characteristics.tag.histology'])\n",
    ")"
   ]
  },
  {
   "cell_type": "code",
   "execution_count": 18,
   "metadata": {},
   "outputs": [],
   "source": [
    "# Create clusters\n",
    "from scipy.cluster.hierarchy import fcluster\n",
    "distance_threshold = 500\n",
    "clusters = fcluster(Z, distance_threshold, criterion='distance')\n",
    "X_train_hierClustered = \\\n",
    "    pd.DataFrame(data=clusters,index=X_PCA.index,columns=['cluster'])"
   ]
  },
  {
   "cell_type": "code",
   "execution_count": 19,
   "metadata": {},
   "outputs": [
    {
     "data": {
      "text/plain": [
       "0.8974358974358975"
      ]
     },
     "execution_count": 19,
     "metadata": {},
     "output_type": "execute_result"
    }
   ],
   "source": [
    "# Show overall accuracy\n",
    "countByCluster_hierClust, countByLabel_hierClust, \\\n",
    "    countMostFreq_hierClust, accuracyDF_hierClust, \\\n",
    "    overallAccuracy_hierClust, accuracyByLabel_hierClust \\\n",
    "    = analyzeCluster(X_train_hierClustered, y)\n",
    "\n",
    "overallAccuracy_hierClust"
   ]
  },
  {
   "cell_type": "code",
   "execution_count": 20,
   "metadata": {},
   "outputs": [
    {
     "data": {
      "text/plain": [
       "0    1.00\n",
       "1    0.84\n",
       "dtype: float64"
      ]
     },
     "execution_count": 20,
     "metadata": {},
     "output_type": "execute_result"
    }
   ],
   "source": [
    "# Show accuracy by cluster\n",
    "accuracyByLabel_hierClust"
   ]
  },
  {
   "cell_type": "markdown",
   "metadata": {},
   "source": [
    "Overall, hierarchical clustering performs well on the dataset. "
   ]
  },
  {
   "cell_type": "markdown",
   "metadata": {},
   "source": [
    "## 6. Perform clustering with DBScan\n",
    "DBScan groups based on the density of points. It will group together closely packed points, where close together is defined as a minimum number of points that must exist within a certain distance."
   ]
  },
  {
   "cell_type": "code",
   "execution_count": 21,
   "metadata": {},
   "outputs": [
    {
     "data": {
      "text/plain": [
       "array([-1, -1, -1, -1, -1, -1, -1, -1, -1, -1, -1, -1, -1, -1, -1, -1, -1,\n",
       "       -1, -1, -1, -1, -1, -1, -1, -1, -1, -1, -1, -1, -1, -1, -1, -1, -1,\n",
       "       -1, -1, -1, -1, -1, -1, -1, -1, -1, -1, -1, -1, -1, -1, -1, -1, -1,\n",
       "       -1, -1, -1, -1, -1, -1, -1, -1, -1, -1, -1, -1, -1, -1, -1, -1, -1,\n",
       "       -1, -1, -1, -1, -1, -1, -1, -1, -1, -1], dtype=int64)"
      ]
     },
     "execution_count": 21,
     "metadata": {},
     "output_type": "execute_result"
    }
   ],
   "source": [
    "from sklearn.cluster import DBSCAN\n",
    "eps = 10\n",
    "min_samples = 2\n",
    "leaf_size =30\n",
    "n_jobs = 8\n",
    "dbscan = DBSCAN(eps=eps, min_samples=min_samples, leaf_size=leaf_size, \n",
    "            n_jobs=n_jobs)\n",
    "X_PCA_db = dbscan.fit_predict(X_PCA.loc[:,0:cutoff])\n",
    "X_PCA_db"
   ]
  },
  {
   "cell_type": "code",
   "execution_count": 22,
   "metadata": {},
   "outputs": [
    {
     "name": "stdout",
     "output_type": "stream",
     "text": [
      "0.5384615384615384\n",
      "0.5384615384615384\n",
      "0.5384615384615384\n",
      "0.5384615384615384\n",
      "0.5384615384615384\n",
      "0.5384615384615384\n",
      "0.5384615384615384\n",
      "0.5384615384615384\n",
      "0.5384615384615384\n",
      "0.5384615384615384\n"
     ]
    },
    {
     "data": {
      "text/html": [
       "<div>\n",
       "<style scoped>\n",
       "    .dataframe tbody tr th:only-of-type {\n",
       "        vertical-align: middle;\n",
       "    }\n",
       "\n",
       "    .dataframe tbody tr th {\n",
       "        vertical-align: top;\n",
       "    }\n",
       "\n",
       "    .dataframe thead th {\n",
       "        text-align: right;\n",
       "    }\n",
       "</style>\n",
       "<table border=\"1\" class=\"dataframe\">\n",
       "  <thead>\n",
       "    <tr style=\"text-align: right;\">\n",
       "      <th></th>\n",
       "      <th>cluster</th>\n",
       "      <th>clusterCount</th>\n",
       "    </tr>\n",
       "  </thead>\n",
       "  <tbody>\n",
       "    <tr>\n",
       "      <th>0</th>\n",
       "      <td>0</td>\n",
       "      <td>72</td>\n",
       "    </tr>\n",
       "    <tr>\n",
       "      <th>1</th>\n",
       "      <td>-1</td>\n",
       "      <td>6</td>\n",
       "    </tr>\n",
       "  </tbody>\n",
       "</table>\n",
       "</div>"
      ],
      "text/plain": [
       "   cluster  clusterCount\n",
       "0        0            72\n",
       "1       -1             6"
      ]
     },
     "execution_count": 22,
     "metadata": {},
     "output_type": "execute_result"
    }
   ],
   "source": [
    "# Perform DBSCAN with different eps values\n",
    "from sklearn.cluster import DBSCAN\n",
    "min_samples = 2\n",
    "leaf_size = 30\n",
    "n_jobs = -1\n",
    "\n",
    "for eps in range(100,200,10):\n",
    "    db = DBSCAN(eps=eps, min_samples=min_samples, leaf_size=leaf_size, \n",
    "                n_jobs=n_jobs)\n",
    "\n",
    "    X_train_PCA_dbscanClustered = db.fit_predict(X_PCA)\n",
    "    X_train_PCA_dbscanClustered = \\\n",
    "        pd.DataFrame(data=X_train_PCA_dbscanClustered, index=X_PCA.index, \\\n",
    "                    columns=['cluster'])\n",
    "\n",
    "    X_train_PCA_dbscanClustered\n",
    "    countByCluster_dbscan, countByLabel_dbscan, countMostFreq_dbscan, \\\n",
    "        accuracyDF_dbscan, overallAccuracy_dbscan, accuracyByLabel_dbscan \\\n",
    "        = analyzeCluster(X_train_PCA_dbscanClustered, y)\n",
    "\n",
    "    print(overallAccuracy_dbscan)\n",
    "countByCluster_dbscan"
   ]
  },
  {
   "cell_type": "markdown",
   "metadata": {},
   "source": [
    "None of the datapoints are being appointed to a cluster. All of them are being labeled as outliers. It appears that DBSCAN has a hard time finding distinct groups of points and, as a result, does a poor job at clustering the gene expression data. Once the hyperparameters are tuned that it does not regards most of the points as noise, it clusters all of them in the same cluster (because of the high eps)."
   ]
  },
  {
   "cell_type": "markdown",
   "metadata": {},
   "source": [
    "## 7. Discussion\n",
    "Overall, kmeans and hierarchical clustering worked well for separating the dataset. DBScan did not work in this situation. The datapoints are too far apart to be considered to be in the same neighborhood. Once the maximum distance between the points (eps) is set higher, DBScan puts all of the datapoints in one cluster and labels the rest as outliers. \n",
    "\n",
    "For KMeans, the number of desired clusters has to be specified. The algorithm will assign each datapoint to exactly one of the clusters. This process is optimized by minimizing the within-cluster variation (inertia). The inertia can be plotted with the amount of clusters on the x-axis. In the situation in this notebook, there were only two clusters needed so this was not plotted. \n",
    "\n",
    "Agglomerative Hierarchical Clustering also clusters the data well. The big advantage of it is, for datasets that are not too long, that it can produce nice dendrograms to show.\n",
    "\n"
   ]
  }
 ],
 "metadata": {
  "interpreter": {
   "hash": "cbb5e3625fc2ebad89e04f01d3da393284c48f84d587c5acd06c7df2c3a4eec5"
  },
  "kernelspec": {
   "display_name": "Python 3.9.7 ('base')",
   "language": "python",
   "name": "python3"
  },
  "language_info": {
   "codemirror_mode": {
    "name": "ipython",
    "version": 3
   },
   "file_extension": ".py",
   "mimetype": "text/x-python",
   "name": "python",
   "nbconvert_exporter": "python",
   "pygments_lexer": "ipython3",
   "version": "3.9.7"
  },
  "orig_nbformat": 4
 },
 "nbformat": 4,
 "nbformat_minor": 2
}
